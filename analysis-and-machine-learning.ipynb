{
 "cells": [
  {
   "cell_type": "code",
   "execution_count": 1,
   "id": "b9a14b1f",
   "metadata": {
    "_cell_guid": "b1076dfc-b9ad-4769-8c92-a6c4dae69d19",
    "_uuid": "8f2839f25d086af736a60e9eeb907d3b93b6e0e5",
    "execution": {
     "iopub.execute_input": "2024-07-10T00:58:51.394433Z",
     "iopub.status.busy": "2024-07-10T00:58:51.394041Z",
     "iopub.status.idle": "2024-07-10T00:58:52.208675Z",
     "shell.execute_reply": "2024-07-10T00:58:52.207381Z"
    },
    "papermill": {
     "duration": 0.827413,
     "end_time": "2024-07-10T00:58:52.211929",
     "exception": false,
     "start_time": "2024-07-10T00:58:51.384516",
     "status": "completed"
    },
    "tags": []
   },
   "outputs": [
    {
     "name": "stdout",
     "output_type": "stream",
     "text": [
      "/kaggle/input/50-startups/50_Startups.csv\n"
     ]
    }
   ],
   "source": [
    "# This Python 3 environment comes with many helpful analytics libraries installed\n",
    "# It is defined by the kaggle/python Docker image: https://github.com/kaggle/docker-python\n",
    "# For example, here's several helpful packages to load\n",
    "\n",
    "import numpy as np # linear algebra\n",
    "import pandas as pd # data processing, CSV file I/O (e.g. pd.read_csv)\n",
    "\n",
    "# Input data files are available in the read-only \"../input/\" directory\n",
    "# For example, running this (by clicking run or pressing Shift+Enter) will list all files under the input directory\n",
    "\n",
    "import os\n",
    "for dirname, _, filenames in os.walk('/kaggle/input'):\n",
    "    for filename in filenames:\n",
    "        print(os.path.join(dirname, filename))\n",
    "\n",
    "# You can write up to 20GB to the current directory (/kaggle/working/) that gets preserved as output when you create a version using \"Save & Run All\" \n",
    "# You can also write temporary files to /kaggle/temp/, but they won't be saved outside of the current session"
   ]
  },
  {
   "cell_type": "markdown",
   "id": "ab76beac",
   "metadata": {
    "papermill": {
     "duration": 0.007287,
     "end_time": "2024-07-10T00:58:52.228086",
     "exception": false,
     "start_time": "2024-07-10T00:58:52.220799",
     "status": "completed"
    },
    "tags": []
   },
   "source": [
    "# Data Describtion"
   ]
  },
  {
   "cell_type": "code",
   "execution_count": 2,
   "id": "86bd906e",
   "metadata": {
    "execution": {
     "iopub.execute_input": "2024-07-10T00:58:52.244926Z",
     "iopub.status.busy": "2024-07-10T00:58:52.244470Z",
     "iopub.status.idle": "2024-07-10T00:58:52.298584Z",
     "shell.execute_reply": "2024-07-10T00:58:52.297341Z"
    },
    "papermill": {
     "duration": 0.065395,
     "end_time": "2024-07-10T00:58:52.301072",
     "exception": false,
     "start_time": "2024-07-10T00:58:52.235677",
     "status": "completed"
    },
    "tags": []
   },
   "outputs": [
    {
     "name": "stdout",
     "output_type": "stream",
     "text": [
      "<class 'pandas.core.frame.DataFrame'>\n",
      "RangeIndex: 50 entries, 0 to 49\n",
      "Data columns (total 5 columns):\n",
      " #   Column           Non-Null Count  Dtype  \n",
      "---  ------           --------------  -----  \n",
      " 0   R&D Spend        50 non-null     float64\n",
      " 1   Administration   50 non-null     float64\n",
      " 2   Marketing Spend  50 non-null     float64\n",
      " 3   State            50 non-null     object \n",
      " 4   Profit           50 non-null     float64\n",
      "dtypes: float64(4), object(1)\n",
      "memory usage: 2.1+ KB\n"
     ]
    }
   ],
   "source": [
    "#reading the file data\n",
    "data = pd.read_csv(\"/kaggle/input/50-startups/50_Startups.csv\")\n",
    "data.info()\n",
    "#the data has 5 columns with 4 in float and 1 a string \n",
    "#the label is the profit\n",
    "#the other are the features"
   ]
  },
  {
   "cell_type": "code",
   "execution_count": 3,
   "id": "9bca39d2",
   "metadata": {
    "execution": {
     "iopub.execute_input": "2024-07-10T00:58:52.318292Z",
     "iopub.status.busy": "2024-07-10T00:58:52.317890Z",
     "iopub.status.idle": "2024-07-10T00:58:52.327444Z",
     "shell.execute_reply": "2024-07-10T00:58:52.326302Z"
    },
    "papermill": {
     "duration": 0.021261,
     "end_time": "2024-07-10T00:58:52.330254",
     "exception": false,
     "start_time": "2024-07-10T00:58:52.308993",
     "status": "completed"
    },
    "tags": []
   },
   "outputs": [
    {
     "data": {
      "text/plain": [
       "R&D Spend          0\n",
       "Administration     0\n",
       "Marketing Spend    0\n",
       "State              0\n",
       "Profit             0\n",
       "dtype: int64"
      ]
     },
     "execution_count": 3,
     "metadata": {},
     "output_type": "execute_result"
    }
   ],
   "source": [
    "# the data is so clean\n",
    "data.isnull().sum()"
   ]
  },
  {
   "cell_type": "code",
   "execution_count": 4,
   "id": "02279443",
   "metadata": {
    "execution": {
     "iopub.execute_input": "2024-07-10T00:58:52.348758Z",
     "iopub.status.busy": "2024-07-10T00:58:52.348381Z",
     "iopub.status.idle": "2024-07-10T00:58:52.377687Z",
     "shell.execute_reply": "2024-07-10T00:58:52.376689Z"
    },
    "papermill": {
     "duration": 0.040976,
     "end_time": "2024-07-10T00:58:52.380100",
     "exception": false,
     "start_time": "2024-07-10T00:58:52.339124",
     "status": "completed"
    },
    "tags": []
   },
   "outputs": [
    {
     "data": {
      "text/html": [
       "<div>\n",
       "<style scoped>\n",
       "    .dataframe tbody tr th:only-of-type {\n",
       "        vertical-align: middle;\n",
       "    }\n",
       "\n",
       "    .dataframe tbody tr th {\n",
       "        vertical-align: top;\n",
       "    }\n",
       "\n",
       "    .dataframe thead th {\n",
       "        text-align: right;\n",
       "    }\n",
       "</style>\n",
       "<table border=\"1\" class=\"dataframe\">\n",
       "  <thead>\n",
       "    <tr style=\"text-align: right;\">\n",
       "      <th></th>\n",
       "      <th>R&amp;D Spend</th>\n",
       "      <th>Administration</th>\n",
       "      <th>Marketing Spend</th>\n",
       "      <th>Profit</th>\n",
       "    </tr>\n",
       "  </thead>\n",
       "  <tbody>\n",
       "    <tr>\n",
       "      <th>count</th>\n",
       "      <td>50.000000</td>\n",
       "      <td>50.000000</td>\n",
       "      <td>50.000000</td>\n",
       "      <td>50.000000</td>\n",
       "    </tr>\n",
       "    <tr>\n",
       "      <th>mean</th>\n",
       "      <td>73721.615600</td>\n",
       "      <td>121344.639600</td>\n",
       "      <td>211025.097800</td>\n",
       "      <td>112012.639200</td>\n",
       "    </tr>\n",
       "    <tr>\n",
       "      <th>std</th>\n",
       "      <td>45902.256482</td>\n",
       "      <td>28017.802755</td>\n",
       "      <td>122290.310726</td>\n",
       "      <td>40306.180338</td>\n",
       "    </tr>\n",
       "    <tr>\n",
       "      <th>min</th>\n",
       "      <td>0.000000</td>\n",
       "      <td>51283.140000</td>\n",
       "      <td>0.000000</td>\n",
       "      <td>14681.400000</td>\n",
       "    </tr>\n",
       "    <tr>\n",
       "      <th>25%</th>\n",
       "      <td>39936.370000</td>\n",
       "      <td>103730.875000</td>\n",
       "      <td>129300.132500</td>\n",
       "      <td>90138.902500</td>\n",
       "    </tr>\n",
       "    <tr>\n",
       "      <th>50%</th>\n",
       "      <td>73051.080000</td>\n",
       "      <td>122699.795000</td>\n",
       "      <td>212716.240000</td>\n",
       "      <td>107978.190000</td>\n",
       "    </tr>\n",
       "    <tr>\n",
       "      <th>75%</th>\n",
       "      <td>101602.800000</td>\n",
       "      <td>144842.180000</td>\n",
       "      <td>299469.085000</td>\n",
       "      <td>139765.977500</td>\n",
       "    </tr>\n",
       "    <tr>\n",
       "      <th>max</th>\n",
       "      <td>165349.200000</td>\n",
       "      <td>182645.560000</td>\n",
       "      <td>471784.100000</td>\n",
       "      <td>192261.830000</td>\n",
       "    </tr>\n",
       "  </tbody>\n",
       "</table>\n",
       "</div>"
      ],
      "text/plain": [
       "           R&D Spend  Administration  Marketing Spend         Profit\n",
       "count      50.000000       50.000000        50.000000      50.000000\n",
       "mean    73721.615600   121344.639600    211025.097800  112012.639200\n",
       "std     45902.256482    28017.802755    122290.310726   40306.180338\n",
       "min         0.000000    51283.140000         0.000000   14681.400000\n",
       "25%     39936.370000   103730.875000    129300.132500   90138.902500\n",
       "50%     73051.080000   122699.795000    212716.240000  107978.190000\n",
       "75%    101602.800000   144842.180000    299469.085000  139765.977500\n",
       "max    165349.200000   182645.560000    471784.100000  192261.830000"
      ]
     },
     "execution_count": 4,
     "metadata": {},
     "output_type": "execute_result"
    }
   ],
   "source": [
    "# know the main numerical information about the data\n",
    "data.describe()"
   ]
  },
  {
   "cell_type": "markdown",
   "id": "a587a1de",
   "metadata": {
    "papermill": {
     "duration": 0.00757,
     "end_time": "2024-07-10T00:58:52.395685",
     "exception": false,
     "start_time": "2024-07-10T00:58:52.388115",
     "status": "completed"
    },
    "tags": []
   },
   "source": [
    "# Data Visualization"
   ]
  },
  {
   "cell_type": "code",
   "execution_count": 5,
   "id": "74f3dc53",
   "metadata": {
    "execution": {
     "iopub.execute_input": "2024-07-10T00:58:52.413098Z",
     "iopub.status.busy": "2024-07-10T00:58:52.412725Z",
     "iopub.status.idle": "2024-07-10T00:58:52.677865Z",
     "shell.execute_reply": "2024-07-10T00:58:52.676703Z"
    },
    "papermill": {
     "duration": 0.27666,
     "end_time": "2024-07-10T00:58:52.680185",
     "exception": false,
     "start_time": "2024-07-10T00:58:52.403525",
     "status": "completed"
    },
    "tags": []
   },
   "outputs": [
    {
     "data": {
      "text/plain": [
       "(Profit             1.000000\n",
       " R&D Spend          0.972900\n",
       " Marketing Spend    0.747766\n",
       " Administration     0.200717\n",
       " Name: Profit, dtype: float64,\n",
       " <Axes: >)"
      ]
     },
     "execution_count": 5,
     "metadata": {},
     "output_type": "execute_result"
    },
    {
     "data": {
      "image/png": "[encoded data removed]",
      "text/plain": [
       "<Figure size 640x480 with 1 Axes>"
      ]
     },
     "metadata": {},
     "output_type": "display_data"
    }
   ],
   "source": [
    "import matplotlib as plt\n",
    "#know the numerical data correlation with profit\n",
    "x = data[['Administration' , 'R&D Spend' , 'Marketing Spend' , 'Profit']].corr()['Profit'].sort_values(ascending = False)\n",
    "# we find that R&D Spend and Marketing Spend have strong correlation\n",
    "x , x.plot(kind = 'bar')"
   ]
  },
  {
   "cell_type": "code",
   "execution_count": 6,
   "id": "db833526",
   "metadata": {
    "execution": {
     "iopub.execute_input": "2024-07-10T00:58:52.698674Z",
     "iopub.status.busy": "2024-07-10T00:58:52.698246Z",
     "iopub.status.idle": "2024-07-10T00:58:53.444374Z",
     "shell.execute_reply": "2024-07-10T00:58:53.443322Z"
    },
    "papermill": {
     "duration": 0.757747,
     "end_time": "2024-07-10T00:58:53.446528",
     "exception": false,
     "start_time": "2024-07-10T00:58:52.688781",
     "status": "completed"
    },
    "tags": []
   },
   "outputs": [
    {
     "data": {
      "image/png": "[encoded data removed]",
      "text/plain": [
       "<Figure size 640x480 with 4 Axes>"
      ]
     },
     "metadata": {},
     "output_type": "display_data"
    }
   ],
   "source": [
    "#the data has normal distributiion\n",
    "data.hist();"
   ]
  },
  {
   "cell_type": "code",
   "execution_count": 7,
   "id": "ba61e2a8",
   "metadata": {
    "execution": {
     "iopub.execute_input": "2024-07-10T00:58:53.467036Z",
     "iopub.status.busy": "2024-07-10T00:58:53.466000Z",
     "iopub.status.idle": "2024-07-10T00:58:55.879174Z",
     "shell.execute_reply": "2024-07-10T00:58:55.878224Z"
    },
    "papermill": {
     "duration": 2.42609,
     "end_time": "2024-07-10T00:58:55.881612",
     "exception": false,
     "start_time": "2024-07-10T00:58:53.455522",
     "status": "completed"
    },
    "tags": []
   },
   "outputs": [
    {
     "data": {
      "text/html": [
       "        <script type=\"text/javascript\">\n",
       "        window.PlotlyConfig = {MathJaxConfig: 'local'};\n",
       "        if (window.MathJax && window.MathJax.Hub && window.MathJax.Hub.Config) {window.MathJax.Hub.Config({SVG: {font: \"STIX-Web\"}});}\n",
       "        if (typeof require !== 'undefined') {\n",
       "        require.undef(\"plotly\");\n",
       "        requirejs.config({\n",
       "            paths: {\n",
       "                'plotly': ['https://cdn.plot.ly/plotly-2.27.0.min']\n",
       "            }\n",
       "        });\n",
       "        require(['plotly'], function(Plotly) {\n",
       "            window._Plotly = Plotly;\n",
       "        });\n",
       "        }\n",
       "        </script>\n",
       "        "
      ]
     },
     "metadata": {},
     "output_type": "display_data"
    },
    {
     "data": {
      "text/html": [
       "<div>                            <div id=\"00192bc6-897c-44f6-909e-c45df3069699\" class=\"plotly-graph-div\" style=\"height:525px; width:100%;\"></div>            <script type=\"text/javascript\">                require([\"plotly\"], function(Plotly) {                    window.PLOTLYENV=window.PLOTLYENV || {};                                    if (document.getElementById(\"00192bc6-897c-44f6-909e-c45df3069699\")) {                    Plotly.newPlot(                        \"00192bc6-897c-44f6-909e-c45df3069699\",                        [{\"domain\":{\"x\":[0.0,1.0],\"y\":[0.0,1.0]},\"hovertemplate\":\"State=%{label}\\u003cextra\\u003e\\u003c\\u002fextra\\u003e\",\"labels\":[\"New York\",\"California\",\"Florida\",\"New York\",\"Florida\",\"New York\",\"California\",\"Florida\",\"New York\",\"California\",\"Florida\",\"California\",\"Florida\",\"California\",\"Florida\",\"New York\",\"California\",\"New York\",\"Florida\",\"New York\",\"California\",\"New York\",\"Florida\",\"Florida\",\"New York\",\"California\",\"Florida\",\"New York\",\"Florida\",\"New York\",\"Florida\",\"New York\",\"California\",\"Florida\",\"California\",\"New York\",\"Florida\",\"California\",\"New York\",\"California\",\"California\",\"Florida\",\"California\",\"New York\",\"California\",\"New York\",\"Florida\",\"California\",\"New York\",\"California\"],\"legendgroup\":\"\",\"name\":\"\",\"showlegend\":true,\"type\":\"pie\"}],                        {\"template\":{\"data\":{\"histogram2dcontour\":[{\"type\":\"histogram2dcontour\",\"colorbar\":{\"outlinewidth\":0,\"ticks\":\"\"},\"colorscale\":[[0.0,\"#0d0887\"],[0.1111111111111111,\"#46039f\"],[0.2222222222222222,\"#7201a8\"],[0.3333333333333333,\"#9c179e\"],[0.4444444444444444,\"#bd3786\"],[0.5555555555555556,\"#d8576b\"],[0.6666666666666666,\"#ed7953\"],[0.7777777777777778,\"#fb9f3a\"],[0.8888888888888888,\"#fdca26\"],[1.0,\"#f0f921\"]]}],\"choropleth\":[{\"type\":\"choropleth\",\"colorbar\":{\"outlinewidth\":0,\"ticks\":\"\"}}],\"histogram2d\":[{\"type\":\"histogram2d\",\"colorbar\":{\"outlinewidth\":0,\"ticks\":\"\"},\"colorscale\":[[0.0,\"#0d0887\"],[0.1111111111111111,\"#46039f\"],[0.2222222222222222,\"#7201a8\"],[0.3333333333333333,\"#9c179e\"],[0.4444444444444444,\"#bd3786\"],[0.5555555555555556,\"#d8576b\"],[0.6666666666666666,\"#ed7953\"],[0.7777777777777778,\"#fb9f3a\"],[0.8888888888888888,\"#fdca26\"],[1.0,\"#f0f921\"]]}],\"heatmap\":[{\"type\":\"heatmap\",\"colorbar\":{\"outlinewidth\":0,\"ticks\":\"\"},\"colorscale\":[[0.0,\"#0d0887\"],[0.1111111111111111,\"#46039f\"],[0.2222222222222222,\"#7201a8\"],[0.3333333333333333,\"#9c179e\"],[0.4444444444444444,\"#bd3786\"],[0.5555555555555556,\"#d8576b\"],[0.6666666666666666,\"#ed7953\"],[0.7777777777777778,\"#fb9f3a\"],[0.8888888888888888,\"#fdca26\"],[1.0,\"#f0f921\"]]}],\"heatmapgl\":[{\"type\":\"heatmapgl\",\"colorbar\":{\"outlinewidth\":0,\"ticks\":\"\"},\"colorscale\":[[0.0,\"#0d0887\"],[0.1111111111111111,\"#46039f\"],[0.2222222222222222,\"#7201a8\"],[0.3333333333333333,\"#9c179e\"],[0.4444444444444444,\"#bd3786\"],[0.5555555555555556,\"#d8576b\"],[0.6666666666666666,\"#ed7953\"],[0.7777777777777778,\"#fb9f3a\"],[0.8888888888888888,\"#fdca26\"],[1.0,\"#f0f921\"]]}],\"contourcarpet\":[{\"type\":\"contourcarpet\",\"colorbar\":{\"outlinewidth\":0,\"ticks\":\"\"}}],\"contour\":[{\"type\":\"contour\",\"colorbar\":{\"outlinewidth\":0,\"ticks\":\"\"},\"colorscale\":[[0.0,\"#0d0887\"],[0.1111111111111111,\"#46039f\"],[0.2222222222222222,\"#7201a8\"],[0.3333333333333333,\"#9c179e\"],[0.4444444444444444,\"#bd3786\"],[0.5555555555555556,\"#d8576b\"],[0.6666666666666666,\"#ed7953\"],[0.7777777777777778,\"#fb9f3a\"],[0.8888888888888888,\"#fdca26\"],[1.0,\"#f0f921\"]]}],\"surface\":[{\"type\":\"surface\",\"colorbar\":{\"outlinewidth\":0,\"ticks\":\"\"},\"colorscale\":[[0.0,\"#0d0887\"],[0.1111111111111111,\"#46039f\"],[0.2222222222222222,\"#7201a8\"],[0.3333333333333333,\"#9c179e\"],[0.4444444444444444,\"#bd3786\"],[0.5555555555555556,\"#d8576b\"],[0.6666666666666666,\"#ed7953\"],[0.7777777777777778,\"#fb9f3a\"],[0.8888888888888888,\"#fdca26\"],[1.0,\"#f0f921\"]]}],\"mesh3d\":[{\"type\":\"mesh3d\",\"colorbar\":{\"outlinewidth\":0,\"ticks\":\"\"}}],\"scatter\":[{\"fillpattern\":{\"fillmode\":\"overlay\",\"size\":10,\"solidity\":0.2},\"type\":\"scatter\"}],\"parcoords\":[{\"type\":\"parcoords\",\"line\":{\"colorbar\":{\"outlinewidth\":0,\"ticks\":\"\"}}}],\"scatterpolargl\":[{\"type\":\"scatterpolargl\",\"marker\":{\"colorbar\":{\"outlinewidth\":0,\"ticks\":\"\"}}}],\"bar\":[{\"error_x\":{\"color\":\"#2a3f5f\"},\"error_y\":{\"color\":\"#2a3f5f\"},\"marker\":{\"line\":{\"color\":\"#E5ECF6\",\"width\":0.5},\"pattern\":{\"fillmode\":\"overlay\",\"size\":10,\"solidity\":0.2}},\"type\":\"bar\"}],\"scattergeo\":[{\"type\":\"scattergeo\",\"marker\":{\"colorbar\":{\"outlinewidth\":0,\"ticks\":\"\"}}}],\"scatterpolar\":[{\"type\":\"scatterpolar\",\"marker\":{\"colorbar\":{\"outlinewidth\":0,\"ticks\":\"\"}}}],\"histogram\":[{\"marker\":{\"pattern\":{\"fillmode\":\"overlay\",\"size\":10,\"solidity\":0.2}},\"type\":\"histogram\"}],\"scattergl\":[{\"type\":\"scattergl\",\"marker\":{\"colorbar\":{\"outlinewidth\":0,\"ticks\":\"\"}}}],\"scatter3d\":[{\"type\":\"scatter3d\",\"line\":{\"colorbar\":{\"outlinewidth\":0,\"ticks\":\"\"}},\"marker\":{\"colorbar\":{\"outlinewidth\":0,\"ticks\":\"\"}}}],\"scattermapbox\":[{\"type\":\"scattermapbox\",\"marker\":{\"colorbar\":{\"outlinewidth\":0,\"ticks\":\"\"}}}],\"scatterternary\":[{\"type\":\"scatterternary\",\"marker\":{\"colorbar\":{\"outlinewidth\":0,\"ticks\":\"\"}}}],\"scattercarpet\":[{\"type\":\"scattercarpet\",\"marker\":{\"colorbar\":{\"outlinewidth\":0,\"ticks\":\"\"}}}],\"carpet\":[{\"aaxis\":{\"endlinecolor\":\"#2a3f5f\",\"gridcolor\":\"white\",\"linecolor\":\"white\",\"minorgridcolor\":\"white\",\"startlinecolor\":\"#2a3f5f\"},\"baxis\":{\"endlinecolor\":\"#2a3f5f\",\"gridcolor\":\"white\",\"linecolor\":\"white\",\"minorgridcolor\":\"white\",\"startlinecolor\":\"#2a3f5f\"},\"type\":\"carpet\"}],\"table\":[{\"cells\":{\"fill\":{\"color\":\"#EBF0F8\"},\"line\":{\"color\":\"white\"}},\"header\":{\"fill\":{\"color\":\"#C8D4E3\"},\"line\":{\"color\":\"white\"}},\"type\":\"table\"}],\"barpolar\":[{\"marker\":{\"line\":{\"color\":\"#E5ECF6\",\"width\":0.5},\"pattern\":{\"fillmode\":\"overlay\",\"size\":10,\"solidity\":0.2}},\"type\":\"barpolar\"}],\"pie\":[{\"automargin\":true,\"type\":\"pie\"}]},\"layout\":{\"autotypenumbers\":\"strict\",\"colorway\":[\"#636efa\",\"#EF553B\",\"#00cc96\",\"#ab63fa\",\"#FFA15A\",\"#19d3f3\",\"#FF6692\",\"#B6E880\",\"#FF97FF\",\"#FECB52\"],\"font\":{\"color\":\"#2a3f5f\"},\"hovermode\":\"closest\",\"hoverlabel\":{\"align\":\"left\"},\"paper_bgcolor\":\"white\",\"plot_bgcolor\":\"#E5ECF6\",\"polar\":{\"bgcolor\":\"#E5ECF6\",\"angularaxis\":{\"gridcolor\":\"white\",\"linecolor\":\"white\",\"ticks\":\"\"},\"radialaxis\":{\"gridcolor\":\"white\",\"linecolor\":\"white\",\"ticks\":\"\"}},\"ternary\":{\"bgcolor\":\"#E5ECF6\",\"aaxis\":{\"gridcolor\":\"white\",\"linecolor\":\"white\",\"ticks\":\"\"},\"baxis\":{\"gridcolor\":\"white\",\"linecolor\":\"white\",\"ticks\":\"\"},\"caxis\":{\"gridcolor\":\"white\",\"linecolor\":\"white\",\"ticks\":\"\"}},\"coloraxis\":{\"colorbar\":{\"outlinewidth\":0,\"ticks\":\"\"}},\"colorscale\":{\"sequential\":[[0.0,\"#0d0887\"],[0.1111111111111111,\"#46039f\"],[0.2222222222222222,\"#7201a8\"],[0.3333333333333333,\"#9c179e\"],[0.4444444444444444,\"#bd3786\"],[0.5555555555555556,\"#d8576b\"],[0.6666666666666666,\"#ed7953\"],[0.7777777777777778,\"#fb9f3a\"],[0.8888888888888888,\"#fdca26\"],[1.0,\"#f0f921\"]],\"sequentialminus\":[[0.0,\"#0d0887\"],[0.1111111111111111,\"#46039f\"],[0.2222222222222222,\"#7201a8\"],[0.3333333333333333,\"#9c179e\"],[0.4444444444444444,\"#bd3786\"],[0.5555555555555556,\"#d8576b\"],[0.6666666666666666,\"#ed7953\"],[0.7777777777777778,\"#fb9f3a\"],[0.8888888888888888,\"#fdca26\"],[1.0,\"#f0f921\"]],\"diverging\":[[0,\"#8e0152\"],[0.1,\"#c51b7d\"],[0.2,\"#de77ae\"],[0.3,\"#f1b6da\"],[0.4,\"#fde0ef\"],[0.5,\"#f7f7f7\"],[0.6,\"#e6f5d0\"],[0.7,\"#b8e186\"],[0.8,\"#7fbc41\"],[0.9,\"#4d9221\"],[1,\"#276419\"]]},\"xaxis\":{\"gridcolor\":\"white\",\"linecolor\":\"white\",\"ticks\":\"\",\"title\":{\"standoff\":15},\"zerolinecolor\":\"white\",\"automargin\":true,\"zerolinewidth\":2},\"yaxis\":{\"gridcolor\":\"white\",\"linecolor\":\"white\",\"ticks\":\"\",\"title\":{\"standoff\":15},\"zerolinecolor\":\"white\",\"automargin\":true,\"zerolinewidth\":2},\"scene\":{\"xaxis\":{\"backgroundcolor\":\"#E5ECF6\",\"gridcolor\":\"white\",\"linecolor\":\"white\",\"showbackground\":true,\"ticks\":\"\",\"zerolinecolor\":\"white\",\"gridwidth\":2},\"yaxis\":{\"backgroundcolor\":\"#E5ECF6\",\"gridcolor\":\"white\",\"linecolor\":\"white\",\"showbackground\":true,\"ticks\":\"\",\"zerolinecolor\":\"white\",\"gridwidth\":2},\"zaxis\":{\"backgroundcolor\":\"#E5ECF6\",\"gridcolor\":\"white\",\"linecolor\":\"white\",\"showbackground\":true,\"ticks\":\"\",\"zerolinecolor\":\"white\",\"gridwidth\":2}},\"shapedefaults\":{\"line\":{\"color\":\"#2a3f5f\"}},\"annotationdefaults\":{\"arrowcolor\":\"#2a3f5f\",\"arrowhead\":0,\"arrowwidth\":1},\"geo\":{\"bgcolor\":\"white\",\"landcolor\":\"#E5ECF6\",\"subunitcolor\":\"white\",\"showland\":true,\"showlakes\":true,\"lakecolor\":\"white\"},\"title\":{\"x\":0.05},\"mapbox\":{\"style\":\"light\"}}},\"legend\":{\"tracegroupgap\":0},\"margin\":{\"t\":60}},                        {\"responsive\": true}                    ).then(function(){\n",
       "                            \n",
       "var gd = document.getElementById('00192bc6-897c-44f6-909e-c45df3069699');\n",
       "var x = new MutationObserver(function (mutations, observer) {{\n",
       "        var display = window.getComputedStyle(gd).display;\n",
       "        if (!display || display === 'none') {{\n",
       "            console.log([gd, 'removed!']);\n",
       "            Plotly.purge(gd);\n",
       "            observer.disconnect();\n",
       "        }}\n",
       "}});\n",
       "\n",
       "// Listen for the removal of the full notebook cells\n",
       "var notebookContainer = gd.closest('#notebook-container');\n",
       "if (notebookContainer) {{\n",
       "    x.observe(notebookContainer, {childList: true});\n",
       "}}\n",
       "\n",
       "// Listen for the clearing of the current output cell\n",
       "var outputEl = gd.closest('.output');\n",
       "if (outputEl) {{\n",
       "    x.observe(outputEl, {childList: true});\n",
       "}}\n",
       "\n",
       "                        })                };                });            </script>        </div>"
      ]
     },
     "metadata": {},
     "output_type": "display_data"
    }
   ],
   "source": [
    "#categorical data\n",
    "import plotly.express as px\n",
    "px.pie(data , names='State')"
   ]
  },
  {
   "cell_type": "code",
   "execution_count": 8,
   "id": "66169391",
   "metadata": {
    "execution": {
     "iopub.execute_input": "2024-07-10T00:58:55.902377Z",
     "iopub.status.busy": "2024-07-10T00:58:55.901984Z",
     "iopub.status.idle": "2024-07-10T00:58:55.911006Z",
     "shell.execute_reply": "2024-07-10T00:58:55.910078Z"
    },
    "papermill": {
     "duration": 0.02215,
     "end_time": "2024-07-10T00:58:55.913097",
     "exception": false,
     "start_time": "2024-07-10T00:58:55.890947",
     "status": "completed"
    },
    "tags": []
   },
   "outputs": [
    {
     "data": {
      "text/plain": [
       "State\n",
       "New York      17\n",
       "California    17\n",
       "Florida       16\n",
       "Name: count, dtype: int64"
      ]
     },
     "execution_count": 8,
     "metadata": {},
     "output_type": "execute_result"
    }
   ],
   "source": [
    "data['State'].value_counts()"
   ]
  },
  {
   "cell_type": "code",
   "execution_count": 9,
   "id": "95d2af7a",
   "metadata": {
    "execution": {
     "iopub.execute_input": "2024-07-10T00:58:55.933368Z",
     "iopub.status.busy": "2024-07-10T00:58:55.932947Z",
     "iopub.status.idle": "2024-07-10T00:58:57.578483Z",
     "shell.execute_reply": "2024-07-10T00:58:57.577490Z"
    },
    "papermill": {
     "duration": 1.658724,
     "end_time": "2024-07-10T00:58:57.581050",
     "exception": false,
     "start_time": "2024-07-10T00:58:55.922326",
     "status": "completed"
    },
    "tags": []
   },
   "outputs": [
    {
     "data": {
      "text/plain": [
       "<Axes: xlabel='State', ylabel='Profit'>"
      ]
     },
     "execution_count": 9,
     "metadata": {},
     "output_type": "execute_result"
    },
    {
     "data": {
      "image/png": "[encoded data removed]",
      "text/plain": [
       "<Figure size 640x480 with 1 Axes>"
      ]
     },
     "metadata": {},
     "output_type": "display_data"
    }
   ],
   "source": [
    "#see the relation between categorical and numerical data\n",
    "import seaborn as sns\n",
    "sns.set()\n",
    "sns.barplot(data =data , x = 'State' , y = 'Profit')"
   ]
  },
  {
   "cell_type": "markdown",
   "id": "170eaa38",
   "metadata": {
    "papermill": {
     "duration": 0.009598,
     "end_time": "2024-07-10T00:58:57.600391",
     "exception": false,
     "start_time": "2024-07-10T00:58:57.590793",
     "status": "completed"
    },
    "tags": []
   },
   "source": [
    "# Train_set and test_set split "
   ]
  },
  {
   "cell_type": "code",
   "execution_count": 10,
   "id": "c9723a76",
   "metadata": {
    "execution": {
     "iopub.execute_input": "2024-07-10T00:58:57.621546Z",
     "iopub.status.busy": "2024-07-10T00:58:57.621134Z",
     "iopub.status.idle": "2024-07-10T00:58:57.861158Z",
     "shell.execute_reply": "2024-07-10T00:58:57.860200Z"
    },
    "papermill": {
     "duration": 0.253608,
     "end_time": "2024-07-10T00:58:57.863667",
     "exception": false,
     "start_time": "2024-07-10T00:58:57.610059",
     "status": "completed"
    },
    "tags": []
   },
   "outputs": [],
   "source": [
    "from sklearn.model_selection import train_test_split\n",
    "train_set , test_set = train_test_split(data , test_size = 0.2 , random_state = 42)"
   ]
  },
  {
   "cell_type": "code",
   "execution_count": 11,
   "id": "b647b7d9",
   "metadata": {
    "execution": {
     "iopub.execute_input": "2024-07-10T00:58:57.885024Z",
     "iopub.status.busy": "2024-07-10T00:58:57.884647Z",
     "iopub.status.idle": "2024-07-10T00:58:57.891354Z",
     "shell.execute_reply": "2024-07-10T00:58:57.890357Z"
    },
    "papermill": {
     "duration": 0.020071,
     "end_time": "2024-07-10T00:58:57.893638",
     "exception": false,
     "start_time": "2024-07-10T00:58:57.873567",
     "status": "completed"
    },
    "tags": []
   },
   "outputs": [
    {
     "data": {
      "text/plain": [
       "((40, 5), (10, 5))"
      ]
     },
     "execution_count": 11,
     "metadata": {},
     "output_type": "execute_result"
    }
   ],
   "source": [
    "train_set.shape , test_set.shape  "
   ]
  },
  {
   "cell_type": "code",
   "execution_count": 12,
   "id": "bc8cde75",
   "metadata": {
    "execution": {
     "iopub.execute_input": "2024-07-10T00:58:57.915607Z",
     "iopub.status.busy": "2024-07-10T00:58:57.915226Z",
     "iopub.status.idle": "2024-07-10T00:58:58.997851Z",
     "shell.execute_reply": "2024-07-10T00:58:58.996822Z"
    },
    "papermill": {
     "duration": 1.096847,
     "end_time": "2024-07-10T00:58:59.000454",
     "exception": false,
     "start_time": "2024-07-10T00:58:57.903607",
     "status": "completed"
    },
    "tags": []
   },
   "outputs": [
    {
     "data": {
      "text/plain": [
       "array([[<Axes: title={'center': 'R&D Spend'}>,\n",
       "        <Axes: title={'center': 'Administration'}>],\n",
       "       [<Axes: title={'center': 'Marketing Spend'}>,\n",
       "        <Axes: title={'center': 'Profit'}>]], dtype=object)"
      ]
     },
     "execution_count": 12,
     "metadata": {},
     "output_type": "execute_result"
    },
    {
     "data": {
      "image/png": "[encoded data removed]",
      "text/plain": [
       "<Figure size 640x480 with 4 Axes>"
      ]
     },
     "metadata": {},
     "output_type": "display_data"
    }
   ],
   "source": [
    "train_set.hist()"
   ]
  },
  {
   "cell_type": "code",
   "execution_count": 13,
   "id": "c099163b",
   "metadata": {
    "execution": {
     "iopub.execute_input": "2024-07-10T00:58:59.023503Z",
     "iopub.status.busy": "2024-07-10T00:58:59.023060Z",
     "iopub.status.idle": "2024-07-10T00:59:00.027711Z",
     "shell.execute_reply": "2024-07-10T00:59:00.026600Z"
    },
    "papermill": {
     "duration": 1.018989,
     "end_time": "2024-07-10T00:59:00.030051",
     "exception": false,
     "start_time": "2024-07-10T00:58:59.011062",
     "status": "completed"
    },
    "tags": []
   },
   "outputs": [
    {
     "data": {
      "text/plain": [
       "array([[<Axes: title={'center': 'R&D Spend'}>,\n",
       "        <Axes: title={'center': 'Administration'}>],\n",
       "       [<Axes: title={'center': 'Marketing Spend'}>,\n",
       "        <Axes: title={'center': 'Profit'}>]], dtype=object)"
      ]
     },
     "execution_count": 13,
     "metadata": {},
     "output_type": "execute_result"
    },
    {
     "data": {
      "image/png": "[encoded data removed]",
      "text/plain": [
       "<Figure size 640x480 with 4 Axes>"
      ]
     },
     "metadata": {},
     "output_type": "display_data"
    }
   ],
   "source": [
    "test_set.hist()"
   ]
  },
  {
   "cell_type": "code",
   "execution_count": 14,
   "id": "25c60bb0",
   "metadata": {
    "execution": {
     "iopub.execute_input": "2024-07-10T00:59:00.054072Z",
     "iopub.status.busy": "2024-07-10T00:59:00.053690Z",
     "iopub.status.idle": "2024-07-10T00:59:00.064865Z",
     "shell.execute_reply": "2024-07-10T00:59:00.063856Z"
    },
    "papermill": {
     "duration": 0.025866,
     "end_time": "2024-07-10T00:59:00.067039",
     "exception": false,
     "start_time": "2024-07-10T00:59:00.041173",
     "status": "completed"
    },
    "tags": []
   },
   "outputs": [
    {
     "data": {
      "text/plain": [
       "((40, 4), (40, 1), (40, 3), (40, 1))"
      ]
     },
     "execution_count": 14,
     "metadata": {},
     "output_type": "execute_result"
    }
   ],
   "source": [
    "#preparing the training data into needed ones:\n",
    "#1- features and labels\n",
    "#2- split features into numerical and categiorical data\n",
    "train_feature = train_set.drop('Profit' , axis = 1).copy()\n",
    "train_label  = train_set[['Profit']].copy()\n",
    "train_numf  = train_feature.drop('State' ,axis = 1).copy()\n",
    "train_catf = train_feature[['State']].copy()\n",
    "train_feature.shape , train_label.shape  , train_numf.shape  , train_catf.shape "
   ]
  },
  {
   "cell_type": "markdown",
   "id": "5a482b34",
   "metadata": {
    "papermill": {
     "duration": 0.012002,
     "end_time": "2024-07-10T00:59:00.090596",
     "exception": false,
     "start_time": "2024-07-10T00:59:00.078594",
     "status": "completed"
    },
    "tags": []
   },
   "source": [
    "# Dealing With numerical data"
   ]
  },
  {
   "cell_type": "code",
   "execution_count": 15,
   "id": "d1cd4422",
   "metadata": {
    "execution": {
     "iopub.execute_input": "2024-07-10T00:59:00.115331Z",
     "iopub.status.busy": "2024-07-10T00:59:00.114406Z",
     "iopub.status.idle": "2024-07-10T00:59:00.269862Z",
     "shell.execute_reply": "2024-07-10T00:59:00.268740Z"
    },
    "papermill": {
     "duration": 0.170412,
     "end_time": "2024-07-10T00:59:00.272273",
     "exception": false,
     "start_time": "2024-07-10T00:59:00.101861",
     "status": "completed"
    },
    "tags": []
   },
   "outputs": [
    {
     "data": {
      "text/plain": [
       "array([ 75124.21 , 120134.7  , 249791.995])"
      ]
     },
     "execution_count": 15,
     "metadata": {},
     "output_type": "execute_result"
    }
   ],
   "source": [
    "#imputation using median\n",
    "from sklearn.impute import SimpleImputer\n",
    "imputer = SimpleImputer(strategy = 'median')\n",
    "imputer.fit(train_numf)\n",
    "imputer.statistics_"
   ]
  },
  {
   "cell_type": "code",
   "execution_count": 16,
   "id": "26ec5879",
   "metadata": {
    "execution": {
     "iopub.execute_input": "2024-07-10T00:59:00.297110Z",
     "iopub.status.busy": "2024-07-10T00:59:00.296209Z",
     "iopub.status.idle": "2024-07-10T00:59:00.309498Z",
     "shell.execute_reply": "2024-07-10T00:59:00.308444Z"
    },
    "papermill": {
     "duration": 0.027998,
     "end_time": "2024-07-10T00:59:00.311680",
     "exception": false,
     "start_time": "2024-07-10T00:59:00.283682",
     "status": "completed"
    },
    "tags": []
   },
   "outputs": [
    {
     "data": {
      "text/html": [
       "<div>\n",
       "<style scoped>\n",
       "    .dataframe tbody tr th:only-of-type {\n",
       "        vertical-align: middle;\n",
       "    }\n",
       "\n",
       "    .dataframe tbody tr th {\n",
       "        vertical-align: top;\n",
       "    }\n",
       "\n",
       "    .dataframe thead th {\n",
       "        text-align: right;\n",
       "    }\n",
       "</style>\n",
       "<table border=\"1\" class=\"dataframe\">\n",
       "  <thead>\n",
       "    <tr style=\"text-align: right;\">\n",
       "      <th></th>\n",
       "      <th>R&amp;D Spend</th>\n",
       "      <th>Administration</th>\n",
       "      <th>Marketing Spend</th>\n",
       "    </tr>\n",
       "  </thead>\n",
       "  <tbody>\n",
       "    <tr>\n",
       "      <th>12</th>\n",
       "      <td>93863.75</td>\n",
       "      <td>127320.38</td>\n",
       "      <td>249839.44</td>\n",
       "    </tr>\n",
       "    <tr>\n",
       "      <th>4</th>\n",
       "      <td>142107.34</td>\n",
       "      <td>91391.77</td>\n",
       "      <td>366168.42</td>\n",
       "    </tr>\n",
       "    <tr>\n",
       "      <th>37</th>\n",
       "      <td>44069.95</td>\n",
       "      <td>51283.14</td>\n",
       "      <td>197029.42</td>\n",
       "    </tr>\n",
       "  </tbody>\n",
       "</table>\n",
       "</div>"
      ],
      "text/plain": [
       "    R&D Spend  Administration  Marketing Spend\n",
       "12   93863.75       127320.38        249839.44\n",
       "4   142107.34        91391.77        366168.42\n",
       "37   44069.95        51283.14        197029.42"
      ]
     },
     "execution_count": 16,
     "metadata": {},
     "output_type": "execute_result"
    }
   ],
   "source": [
    "#making a dataframe of the imputation numerical data\n",
    "Imputation_Data = pd.DataFrame(imputer.transform(train_numf) , index = train_numf.index , columns = train_numf.columns)\n",
    "Imputation_Data.head(3)"
   ]
  },
  {
   "cell_type": "code",
   "execution_count": 17,
   "id": "2cd566af",
   "metadata": {
    "execution": {
     "iopub.execute_input": "2024-07-10T00:59:00.336786Z",
     "iopub.status.busy": "2024-07-10T00:59:00.335846Z",
     "iopub.status.idle": "2024-07-10T00:59:00.347542Z",
     "shell.execute_reply": "2024-07-10T00:59:00.346356Z"
    },
    "papermill": {
     "duration": 0.026704,
     "end_time": "2024-07-10T00:59:00.349773",
     "exception": false,
     "start_time": "2024-07-10T00:59:00.323069",
     "status": "completed"
    },
    "tags": []
   },
   "outputs": [
    {
     "data": {
      "text/plain": [
       "array([[0., 1., 0.],\n",
       "       [0., 1., 0.],\n",
       "       [1., 0., 0.],\n",
       "       [0., 0., 1.],\n",
       "       [0., 0., 1.],\n",
       "       [1., 0., 0.],\n",
       "       [0., 1., 0.],\n",
       "       [0., 1., 0.],\n",
       "       [1., 0., 0.],\n",
       "       [0., 0., 1.],\n",
       "       [1., 0., 0.],\n",
       "       [1., 0., 0.],\n",
       "       [0., 0., 1.],\n",
       "       [1., 0., 0.],\n",
       "       [0., 0., 1.],\n",
       "       [0., 0., 1.],\n",
       "       [1., 0., 0.],\n",
       "       [0., 0., 1.],\n",
       "       [0., 1., 0.],\n",
       "       [0., 0., 1.],\n",
       "       [0., 0., 1.],\n",
       "       [1., 0., 0.],\n",
       "       [0., 1., 0.],\n",
       "       [1., 0., 0.],\n",
       "       [0., 0., 1.],\n",
       "       [0., 1., 0.],\n",
       "       [0., 0., 1.],\n",
       "       [0., 0., 1.],\n",
       "       [0., 1., 0.],\n",
       "       [1., 0., 0.],\n",
       "       [0., 1., 0.],\n",
       "       [0., 1., 0.],\n",
       "       [0., 1., 0.],\n",
       "       [1., 0., 0.],\n",
       "       [1., 0., 0.],\n",
       "       [0., 1., 0.],\n",
       "       [1., 0., 0.],\n",
       "       [0., 1., 0.],\n",
       "       [0., 1., 0.],\n",
       "       [0., 0., 1.]])"
      ]
     },
     "execution_count": 17,
     "metadata": {},
     "output_type": "execute_result"
    }
   ],
   "source": [
    "# Dealing with categorical data\n",
    "from sklearn.preprocessing import OneHotEncoder\n",
    "catencoder = OneHotEncoder(sparse_output = False)\n",
    "cat = catencoder.fit_transform(train_catf)\n",
    "cat"
   ]
  },
  {
   "cell_type": "markdown",
   "id": "5861287b",
   "metadata": {
    "papermill": {
     "duration": 0.011661,
     "end_time": "2024-07-10T00:59:00.374372",
     "exception": false,
     "start_time": "2024-07-10T00:59:00.362711",
     "status": "completed"
    },
    "tags": []
   },
   "source": [
    "# Feature Scaling"
   ]
  },
  {
   "cell_type": "code",
   "execution_count": 18,
   "id": "8473d2ee",
   "metadata": {
    "execution": {
     "iopub.execute_input": "2024-07-10T00:59:00.399550Z",
     "iopub.status.busy": "2024-07-10T00:59:00.399172Z",
     "iopub.status.idle": "2024-07-10T00:59:00.954166Z",
     "shell.execute_reply": "2024-07-10T00:59:00.952855Z"
    },
    "papermill": {
     "duration": 0.570171,
     "end_time": "2024-07-10T00:59:00.955936",
     "exception": true,
     "start_time": "2024-07-10T00:59:00.385765",
     "status": "failed"
    },
    "tags": []
   },
   "outputs": [
    {
     "ename": "NameError",
     "evalue": "name 'scaler2' is not defined",
     "output_type": "error",
     "traceback": [
      "\u001b[0;31m---------------------------------------------------------------------------\u001b[0m",
      "\u001b[0;31mNameError\u001b[0m                                 Traceback (most recent call last)",
      "Cell \u001b[0;32mIn[18], line 4\u001b[0m\n\u001b[1;32m      2\u001b[0m \u001b[38;5;28;01mfrom\u001b[39;00m \u001b[38;5;21;01msklearn\u001b[39;00m\u001b[38;5;21;01m.\u001b[39;00m\u001b[38;5;21;01mpreprocessing\u001b[39;00m \u001b[38;5;28;01mimport\u001b[39;00m StandardScaler\n\u001b[1;32m      3\u001b[0m scaler \u001b[38;5;241m=\u001b[39m StandardScaler()\n\u001b[0;32m----> 4\u001b[0m feature \u001b[38;5;241m=\u001b[39m \u001b[43mscaler2\u001b[49m\u001b[38;5;241m.\u001b[39mfit_transform(train_numf) \n\u001b[1;32m      5\u001b[0m feature\n",
      "\u001b[0;31mNameError\u001b[0m: name 'scaler2' is not defined"
     ]
    }
   ],
   "source": [
    "#StandardScaler\n",
    "from sklearn.preprocessing import StandardScaler\n",
    "scaler = StandardScaler()\n",
    "feature = scaler2.fit_transform(train_numf) \n",
    "feature"
   ]
  },
  {
   "cell_type": "markdown",
   "id": "48f6afcf",
   "metadata": {
    "papermill": {
     "duration": null,
     "end_time": null,
     "exception": null,
     "start_time": null,
     "status": "pending"
    },
    "tags": []
   },
   "source": [
    "# Making A Pipeline"
   ]
  },
  {
   "cell_type": "code",
   "execution_count": null,
   "id": "ed71403b",
   "metadata": {
    "execution": {
     "iopub.execute_input": "2024-07-09T23:28:59.168805Z",
     "iopub.status.busy": "2024-07-09T23:28:59.168383Z",
     "iopub.status.idle": "2024-07-09T23:28:59.192507Z",
     "shell.execute_reply": "2024-07-09T23:28:59.191465Z",
     "shell.execute_reply.started": "2024-07-09T23:28:59.168775Z"
    },
    "papermill": {
     "duration": null,
     "end_time": null,
     "exception": null,
     "start_time": null,
     "status": "pending"
    },
    "tags": []
   },
   "outputs": [],
   "source": [
    "#pipeline for numerical data\n",
    "from sklearn.pipeline import Pipeline\n",
    "pipeline = Pipeline([('imputer', SimpleImputer(strategy = 'median')) , ('std_scaler' , StandardScaler())])\n",
    "num_pipe = pipeline.fit_transform(train_numf)\n",
    "\n",
    "#dealing with categorical data\n",
    "from sklearn.compose import ColumnTransformer\n",
    "num =list(train_numf)\n",
    "cat = ['State']\n",
    "\n",
    "full_pipeline = ColumnTransformer([('num' ,pipeline , num) , (\"cat\" , OneHotEncoder(sparse = False) , cat)])\n",
    "\n",
    "# Using make_column_transformer\n",
    "from sklearn.compose import make_column_transformer\n",
    "full_pipeline = make_column_transformer((pipeline, num),(OneHotEncoder(sparse_output= False , drop = 'first'), cat))\n",
    "\n",
    "# Transform the training data\n",
    "train_features_prepared = full_pipeline.fit_transform(train_feature)\n",
    "train_features_prepared.shape"
   ]
  },
  {
   "cell_type": "markdown",
   "id": "a2c1b98e",
   "metadata": {
    "papermill": {
     "duration": null,
     "end_time": null,
     "exception": null,
     "start_time": null,
     "status": "pending"
    },
    "tags": []
   },
   "source": [
    "# Modeling"
   ]
  },
  {
   "cell_type": "code",
   "execution_count": null,
   "id": "32d29f42",
   "metadata": {
    "execution": {
     "iopub.execute_input": "2024-07-09T23:43:45.543553Z",
     "iopub.status.busy": "2024-07-09T23:43:45.543138Z",
     "iopub.status.idle": "2024-07-09T23:43:45.603469Z",
     "shell.execute_reply": "2024-07-09T23:43:45.602319Z",
     "shell.execute_reply.started": "2024-07-09T23:43:45.543518Z"
    },
    "papermill": {
     "duration": null,
     "end_time": null,
     "exception": null,
     "start_time": null,
     "status": "pending"
    },
    "tags": []
   },
   "outputs": [],
   "source": [
    "#linear Regression\n",
    "from sklearn.linear_model import LinearRegression\n",
    "lin = LinearRegression()\n",
    "lin.fit(train_features_prepared ,train_label)\n",
    "lin_predict = lin.predict(train_features_prepared)\n",
    "\n",
    "#check accuracy\n",
    "from sklearn.metrics import r2_score\n",
    "print(\"The Accuracy of the linear Regression : \" ,r2_score(train_label , lin_predict), '%')\n",
    "\n",
    "#applying cross validation\n",
    "from sklearn.model_selection import cross_val_score\n",
    "lin_score = cross_val_score(lin , train_features_prepared , train_label , scoring = 'r2' , cv = 10)\n",
    "print(\"linear cross validation score: \" , lin_score)\n",
    "print(\"linear cross validation mean score: \" , round(lin_score.mean() , 2))\n",
    "print(\"linear cross validation std score: \" , round(lin_score.std() , 2))"
   ]
  },
  {
   "cell_type": "code",
   "execution_count": null,
   "id": "402dfd74",
   "metadata": {
    "execution": {
     "iopub.execute_input": "2024-07-10T00:33:58.895887Z",
     "iopub.status.busy": "2024-07-10T00:33:58.895483Z",
     "iopub.status.idle": "2024-07-10T00:33:58.946611Z",
     "shell.execute_reply": "2024-07-10T00:33:58.945432Z",
     "shell.execute_reply.started": "2024-07-10T00:33:58.895857Z"
    },
    "papermill": {
     "duration": null,
     "end_time": null,
     "exception": null,
     "start_time": null,
     "status": "pending"
    },
    "tags": []
   },
   "outputs": [],
   "source": [
    "#DecisionTree\n",
    "from sklearn.tree import DecisionTreeRegressor\n",
    "tree = DecisionTreeRegressor()\n",
    "tree.fit(train_features_prepared ,train_label)\n",
    "tree_predict = tree.predict(train_features_prepared)\n",
    "\n",
    "#check accuracy\n",
    "from sklearn.metrics import r2_score\n",
    "print(\"The Accuracy of the DecisionTree : \" ,r2_score(train_label , tree_predict))\n",
    "#The Accuracy of the DecisionTree :  100.0 %\n",
    "#the accuracy of the decisiontree is not accurate very much\n",
    "\n",
    "#applying cross validation\n",
    "from sklearn.model_selection import cross_val_score\n",
    "tree_score = cross_val_score(tree , train_features_prepared , train_label , scoring = 'r2' , cv = 10)\n",
    "print(\"DecisionTree cross validation score: \" , tree_score)\n",
    "print(\"DecisionTree cross validation mean score: \" , round(tree_score.mean() , 2))\n",
    "print(\"DecisionTree cross validation std score: \" , round(tree_score.std() , 2))"
   ]
  },
  {
   "cell_type": "markdown",
   "id": "84419355",
   "metadata": {
    "papermill": {
     "duration": null,
     "end_time": null,
     "exception": null,
     "start_time": null,
     "status": "pending"
    },
    "tags": []
   },
   "source": [
    "# Fine Tuning"
   ]
  },
  {
   "cell_type": "code",
   "execution_count": null,
   "id": "c9f05880",
   "metadata": {
    "execution": {
     "iopub.execute_input": "2024-07-10T00:28:11.737701Z",
     "iopub.status.busy": "2024-07-10T00:28:11.736659Z",
     "iopub.status.idle": "2024-07-10T00:28:12.002995Z",
     "shell.execute_reply": "2024-07-10T00:28:12.001837Z",
     "shell.execute_reply.started": "2024-07-10T00:28:11.737662Z"
    },
    "papermill": {
     "duration": null,
     "end_time": null,
     "exception": null,
     "start_time": null,
     "status": "pending"
    },
    "tags": []
   },
   "outputs": [],
   "source": [
    "#GridSearchCV\n",
    "from sklearn.model_selection import GridSearchCV\n",
    "parameters = {'max_depth' : [1,2,3,4] , 'max_features': [2,4,6,8]}\n",
    "grid = GridSearchCV(tree , parameters , cv = 5, scoring = 'neg_mean_squared_error')\n",
    "grid.fit(train_features_prepared , train_label)\n",
    "grid.best_params_"
   ]
  },
  {
   "cell_type": "code",
   "execution_count": null,
   "id": "ddd8fc07",
   "metadata": {
    "execution": {
     "iopub.execute_input": "2024-07-10T00:34:12.389560Z",
     "iopub.status.busy": "2024-07-10T00:34:12.388346Z",
     "iopub.status.idle": "2024-07-10T00:34:12.441215Z",
     "shell.execute_reply": "2024-07-10T00:34:12.439950Z",
     "shell.execute_reply.started": "2024-07-10T00:34:12.389460Z"
    },
    "papermill": {
     "duration": null,
     "end_time": null,
     "exception": null,
     "start_time": null,
     "status": "pending"
    },
    "tags": []
   },
   "outputs": [],
   "source": [
    "#make cross validation again \n",
    "from sklearn.tree import DecisionTreeRegressor\n",
    "treef = DecisionTreeRegressor(max_depth = 4 , max_features = 6)\n",
    "treef.fit(train_features_prepared ,train_label)\n",
    "treef_predict = treef.predict(train_features_prepared)\n",
    "\n",
    "#check accuracy\n",
    "from sklearn.metrics import r2_score\n",
    "print(\"The Accuracy of the DecisionTree : \" ,r2_score(train_label , treef_predict))\n",
    "\n",
    "#applying cross validation\n",
    "from sklearn.model_selection import cross_val_score\n",
    "treef_score = cross_val_score(treef , train_features_prepared , train_label , scoring = 'r2' , cv = 10)\n",
    "print(\"DecisionTree cross validation score: \" , treef_score)\n",
    "print(\"DecisionTree cross validation mean score: \" , round(treef_score.mean() , 2))\n",
    "print(\"DecisionTree cross validation std score: \" , round(treef_score.std() , 2))"
   ]
  },
  {
   "cell_type": "markdown",
   "id": "f936f12c",
   "metadata": {
    "papermill": {
     "duration": null,
     "end_time": null,
     "exception": null,
     "start_time": null,
     "status": "pending"
    },
    "tags": []
   },
   "source": [
    "# Testing accuracy"
   ]
  },
  {
   "cell_type": "code",
   "execution_count": null,
   "id": "53ee45bb",
   "metadata": {
    "execution": {
     "iopub.execute_input": "2024-07-10T00:39:12.657195Z",
     "iopub.status.busy": "2024-07-10T00:39:12.656797Z",
     "iopub.status.idle": "2024-07-10T00:39:12.675894Z",
     "shell.execute_reply": "2024-07-10T00:39:12.674657Z",
     "shell.execute_reply.started": "2024-07-10T00:39:12.657166Z"
    },
    "papermill": {
     "duration": null,
     "end_time": null,
     "exception": null,
     "start_time": null,
     "status": "pending"
    },
    "tags": []
   },
   "outputs": [],
   "source": [
    "#split test_set into feature and label\n",
    "test_feature = test_set.drop('Profit' , axis = 1).copy()\n",
    "test_label  = test_set[['Profit']].copy()\n",
    "\n",
    "#making the pipeline for the testing data\n",
    "test_features_prepared = full_pipeline.transform(test_feature)\n",
    "\n",
    "lin_test = lin.predict(test_features_prepared)\n",
    "tree_test = treef.predict(test_features_prepared)\n",
    "\n",
    "#calculating the accuracy of the machine learning models\n",
    "print(\"Linear Regression Accuracy on Test Data: \", r2_score(test_label, lin_test))\n",
    "print(\"Decision Tree Accuracy on Test Data: \", r2_score(test_label, tree_test))"
   ]
  },
  {
   "cell_type": "markdown",
   "id": "53a99974",
   "metadata": {
    "papermill": {
     "duration": null,
     "end_time": null,
     "exception": null,
     "start_time": null,
     "status": "pending"
    },
    "tags": []
   },
   "source": [
    "# Making DataFrame of models accuracy"
   ]
  },
  {
   "cell_type": "code",
   "execution_count": null,
   "id": "5b4c86e0",
   "metadata": {
    "execution": {
     "iopub.execute_input": "2024-07-10T00:43:58.615361Z",
     "iopub.status.busy": "2024-07-10T00:43:58.614981Z",
     "iopub.status.idle": "2024-07-10T00:43:58.635806Z",
     "shell.execute_reply": "2024-07-10T00:43:58.634661Z",
     "shell.execute_reply.started": "2024-07-10T00:43:58.615333Z"
    },
    "papermill": {
     "duration": null,
     "end_time": null,
     "exception": null,
     "start_time": null,
     "status": "pending"
    },
    "tags": []
   },
   "outputs": [],
   "source": [
    "#making a dataframe of the whole accuracy needed\n",
    "#making the percent % of them\n",
    "pd.DataFrame({ \"Linear Regression\": [r2_score(train_label , lin_predict)*100, \n",
    "                                     r2_score(test_label, lin_test)*100],\n",
    "              \"Decision Tree\": [r2_score(train_label, treef_predict)*100,\n",
    "                                r2_score(test_label, tree_test)*100]},\n",
    "                                index=[\"Training Accuracy\", \"Testing Accuracy\"])"
   ]
  }
 ],
 "metadata": {
  "kaggle": {
   "accelerator": "none",
   "dataSources": [
    {
     "datasetId": 21716,
     "sourceId": 27925,
     "sourceType": "datasetVersion"
    }
   ],
   "dockerImageVersionId": 30732,
   "isGpuEnabled": false,
   "isInternetEnabled": true,
   "language": "python",
   "sourceType": "notebook"
  },
  "kernelspec": {
   "display_name": "Python 3",
   "language": "python",
   "name": "python3"
  },
  "language_info": {
   "codemirror_mode": {
    "name": "ipython",
    "version": 3
   },
   "file_extension": ".py",
   "mimetype": "text/x-python",
   "name": "python",
   "nbconvert_exporter": "python",
   "pygments_lexer": "ipython3",
   "version": "3.10.13"
  },
  "papermill": {
   "default_parameters": {},
   "duration": 13.100823,
   "end_time": "2024-07-10T00:59:01.788915",
   "environment_variables": {},
   "exception": true,
   "input_path": "__notebook__.ipynb",
   "output_path": "__notebook__.ipynb",
   "parameters": {},
   "start_time": "2024-07-10T00:58:48.688092",
   "version": "2.5.0"
  }
 },
 "nbformat": 4,
 "nbformat_minor": 5
}

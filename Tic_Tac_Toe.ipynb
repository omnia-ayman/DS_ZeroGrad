{
  "cells": [
    {
      "cell_type": "markdown",
      "metadata": {
        "id": "view-in-github",
        "colab_type": "text"
      },
      "source": [
        "<a href=\"https://colab.research.google.com/github/omnia-ayman/DS_ZeroGrad/blob/Python/Tic_Tac_Toe.ipynb\" target=\"_parent\"><img src=\"https://colab.research.google.com/assets/colab-badge.svg\" alt=\"Open In Colab\"/></a>"
      ]
    },
    {
      "cell_type": "markdown",
      "metadata": {
        "id": "hMV-7TpxbEDG"
      },
      "source": [
        "\n",
        "<a href=\"https://www.zero-grad.com/\">\n",
        "         <img alt=\"Zero Grad\" src=\"https://lh3.googleusercontent.com/oEMY-qk_B2HW_Fponz1a3u1fLfo3NpO0VFjQKnVW8fH0v93NAWala5Kgp0nN2ubiyZdEMpwhv3Ynv7bXsB0RZ28YfEd_ZlRum75OHEu0-z7XwHfcD3sin7_SORLzg1gz52MsxD3b1WbxQWX1RdR4HP3jpbJTOuCiddl92UBcQH_x-Llx7_XuZuwb9ekN9vYnKsw6U1yL2df4IVrJEDySttzab9qlHvMO7sSekgS64jPVAmATjqXqlvrwM026dhrad-7nX-hfr2uKlUGPuo9xKzVo4EhbUP1-pKBQNPNHO6P0KcReg3NxbtKmWXRyg9LPX0xO-wwXWt9GhCcPXFV_BoY5eQXabCjR3mlr9SO01VgWplas-XF4337_JOm-bVkiaQjQca_N4Gg0hy26TvIGRnHEMIPSgudYPqhMnatoN4xAC715rP82r1svC0_qadXMZHu6D40YqWnY9ZE-iujr2p1_CetxmG-uY94UATy7o-SnxuPchG4QfZkiUgRMr8xNg86bQMuBxbCS_lOyVMwfqwbt2IunlDcZ8yyN_3SJFzFHuFOOjQolgGQrytI0mP1oTwba7je0RtBtCuTck1UCMMsZvMnJhCtWgMmuLoYTkSCzxMXbz0T3L2AClDouA_3dwM7z1gdm8Gq4v06T1KWFUs1adGNH5fuj-pUHEfW4drzzXgolPH5SehqhaNsqdMttCPUzNPIIEjwfULyQi7nlP-w-qydK82mdhdmjQhrprfoGtsPckJkI1Tur60uZI7nLkES5cE3tQrGualSNArRkkU8KN4tStZ0CkmqZNkAlMbfAJSYBD7tDxhGSg922AdLevSLJMTUyg6KuHoY30r7zH1Z8fE0R8aFZL2LJl54OU_tkXEdlFlSnZTOdB-PVTj-yagpt99SetLnQIX5SS_Vxc0BNPKjUZG0oEHYbIxkbZN1O7Rg78xe-thytngS0byfuaeP2X4NYjg29FIffnn72bAUs9Ii0N2mOpABLg1uQMN4MyAa1Mbd_=w1300-h200-no?authuser=1\" >\n",
        "      </a>"
      ]
    },
    {
      "cell_type": "markdown",
      "metadata": {
        "id": "PhpgbWHJhJOW"
      },
      "source": [
        "# Tic Tac Toe Project Description"
      ]
    },
    {
      "cell_type": "markdown",
      "metadata": {
        "id": "9XJyp9xehPBl"
      },
      "source": [
        " **`(1) Create Empty board (3x3):`**\n",
        "\n",
        "  `1  2  3`\n",
        "\n",
        "  `4 5 6`\n",
        "\n",
        "  `7 8 9`\n",
        "\n",
        " **`(2) Show Board`**\n",
        "\n",
        " **`(3) Set Players Randomly ('X', 'O')`**\n",
        "\n",
        " **`(4) Take Input from Player`**\n",
        "\n",
        " **`(5) Check Full Board >> Draw`**\n",
        "\n",
        " **`(6) Check if Someone wins >> Finish`**"
      ]
    },
    {
      "cell_type": "markdown",
      "metadata": {
        "id": "m2nflmTioFy_"
      },
      "source": [
        "# Template"
      ]
    },
    {
      "cell_type": "markdown",
      "metadata": {
        "id": "GsE-z7Son-xm"
      },
      "source": [
        "## Empty Board"
      ]
    },
    {
      "cell_type": "code",
      "execution_count": null,
      "metadata": {
        "id": "YueCJNtPnndY"
      },
      "outputs": [],
      "source": [
        "def create_empty_board():\n",
        "  board = [[1,2,3],[4,5,6],[7,8,9]]\n",
        "  for i in board:\n",
        "    for j in i:\n",
        "      print(j , end = \"\\t\")\n",
        "    print(\"\\n\")"
      ]
    },
    {
      "cell_type": "code",
      "execution_count": null,
      "metadata": {
        "id": "RMlzPMyHRIq7",
        "colab": {
          "base_uri": "https://localhost:8080/"
        },
        "outputId": "0099ae60-8fed-42c8-ac20-6608d41ae6e8"
      },
      "outputs": [
        {
          "output_type": "stream",
          "name": "stdout",
          "text": [
            "1\t2\t3\t\n",
            "\n",
            "4\t5\t6\t\n",
            "\n",
            "7\t8\t9\t\n",
            "\n"
          ]
        }
      ],
      "source": [
        "create_empty_board()"
      ]
    },
    {
      "cell_type": "code",
      "execution_count": null,
      "metadata": {
        "id": "Mo2assFK0UrP",
        "colab": {
          "base_uri": "https://localhost:8080/"
        },
        "outputId": "50ed946a-95e0-4dd9-f32a-342c59e18e26"
      },
      "outputs": [
        {
          "output_type": "stream",
          "name": "stdout",
          "text": [
            "1\t2\t3\t\n",
            "\n",
            "4\t5\t6\t\n",
            "\n",
            "7\t8\t9\t\n",
            "\n"
          ]
        }
      ],
      "source": [
        "board = [[1,2,3],[4,5,6],[7,8,9]]\n",
        "for i in board:\n",
        "    for j in i:\n",
        "        print(j, end='\\t')\n",
        "    print('\\n')"
      ]
    },
    {
      "cell_type": "markdown",
      "metadata": {
        "id": "qjKBWyq4f3Fr"
      },
      "source": [
        "## Show Board"
      ]
    },
    {
      "cell_type": "code",
      "execution_count": null,
      "metadata": {
        "id": "Bn6VqZo_Xze5"
      },
      "outputs": [],
      "source": [
        "def show_board(board):\n",
        "  for i in board:\n",
        "    for j in i:\n",
        "      print(j , end = \"\\t\")\n",
        "    print(\"\\n\")"
      ]
    },
    {
      "cell_type": "markdown",
      "metadata": {
        "id": "ZaIwkooboJ5p"
      },
      "source": [
        "## Set Players"
      ]
    },
    {
      "cell_type": "code",
      "execution_count": null,
      "metadata": {
        "id": "we7UkC6AhFwy"
      },
      "outputs": [],
      "source": [
        "def set_players():\n",
        " from random import choice\n",
        " player1 = choice ([\"x\" , \"o\"])\n",
        " if(player1 == \"o\"):\n",
        "    player2 = \"x\"\n",
        " else:\n",
        "  player2 = \"o\"\n",
        " return player1 , player2"
      ]
    },
    {
      "cell_type": "code",
      "execution_count": null,
      "metadata": {
        "colab": {
          "base_uri": "https://localhost:8080/"
        },
        "id": "3A_FDAHLWxNF",
        "outputId": "e00fd3f5-9aca-4099-be0c-c50824b03b7a"
      },
      "outputs": [
        {
          "output_type": "execute_result",
          "data": {
            "text/plain": [
              "('o', 'x')"
            ]
          },
          "metadata": {},
          "execution_count": 51
        }
      ],
      "source": [
        "set_players()"
      ]
    },
    {
      "cell_type": "markdown",
      "metadata": {
        "id": "VNl11PuZgDjc"
      },
      "source": [
        "## Take Input"
      ]
    },
    {
      "cell_type": "code",
      "execution_count": null,
      "metadata": {
        "id": "pZAd299MY2fw"
      },
      "outputs": [],
      "source": [
        "def take_input(board , player):\n",
        "\n",
        "  while(True):\n",
        "    x = input(\"please input you number from 1 to 9 in an empty cell: \")\n",
        "    if x == '1' and board[0][0].isdigit() :\n",
        "      board[0][0] = player\n",
        "      break\n",
        "    elif x == '2' and board[0][1].isdigit():\n",
        "      board[0][1] = player\n",
        "      break\n",
        "    elif x == '3' and board[0][2].isdigit():\n",
        "      board[0][2] = player\n",
        "      break\n",
        "    elif x == '4' and board[1][0].isdigit():\n",
        "      board[1][0] = player\n",
        "      break\n",
        "    elif x == '5' and board[1][1].isdigit():\n",
        "      board[1][1] = player\n",
        "      break\n",
        "    elif x == '6' and board[1][2].isdigit():\n",
        "      board[1][2] = player\n",
        "      break\n",
        "    elif x == '7' and board[2][0].isdigit():\n",
        "      board[2][0] = player\n",
        "      break\n",
        "    elif x == '8' and board[2][1].isdigit():\n",
        "      board[2][1] = player\n",
        "      break\n",
        "    elif x == '9' and board[2][2].isdigit():\n",
        "      board[2][2] = player\n",
        "      break\n",
        "    else:\n",
        "      print('Invalid Choice')\n",
        "      continue\n",
        "  show_board(board)"
      ]
    },
    {
      "cell_type": "code",
      "execution_count": null,
      "metadata": {
        "id": "bH2UI4GEcAVp",
        "colab": {
          "base_uri": "https://localhost:8080/"
        },
        "outputId": "e1f24a75-b83a-4307-db54-1a9104064850"
      },
      "outputs": [
        {
          "output_type": "stream",
          "name": "stdout",
          "text": [
            "please input you number from 1 to 9 in an empty cell: 2\n",
            "1\tO\t3\t\n",
            "\n",
            "4\tX\t6\t\n",
            "\n",
            "7\t8\t9\t\n",
            "\n"
          ]
        }
      ],
      "source": [
        "board = [['1','2','3'],['4','X','6'],['7','8','9']]\n",
        "player ='O'\n",
        "\n",
        "take_input(board, player)\n"
      ]
    },
    {
      "cell_type": "markdown",
      "metadata": {
        "id": "mgCFF48jgVq7"
      },
      "source": [
        "## Check Full Board"
      ]
    },
    {
      "cell_type": "code",
      "execution_count": null,
      "metadata": {
        "id": "obxUdjg_ThZi"
      },
      "outputs": [],
      "source": [
        "def check_full_board(board):\n",
        "  flag = 0\n",
        "  for i in board:\n",
        "    for j in i:\n",
        "      if(j.isdigit()):\n",
        "        flag = 1\n",
        "\n",
        "  if(flag):\n",
        "   return False\n",
        "  else:\n",
        "    return True"
      ]
    },
    {
      "cell_type": "code",
      "execution_count": null,
      "metadata": {
        "colab": {
          "base_uri": "https://localhost:8080/"
        },
        "id": "TcLZt1PqS_9i",
        "outputId": "248af629-207d-4740-b302-5085ab701cf5"
      },
      "outputs": [
        {
          "output_type": "execute_result",
          "data": {
            "text/plain": [
              "True"
            ]
          },
          "metadata": {},
          "execution_count": 30
        }
      ],
      "source": [
        "board = [['o','x','x'],['o','X','o'],['x','o','x']]\n",
        "check_full_board(board)"
      ]
    },
    {
      "cell_type": "code",
      "execution_count": null,
      "metadata": {
        "colab": {
          "base_uri": "https://localhost:8080/"
        },
        "id": "s475eihMkEqL",
        "outputId": "467ee890-504f-43b3-c27b-fa51e7628e5a"
      },
      "outputs": [
        {
          "output_type": "execute_result",
          "data": {
            "text/plain": [
              "False"
            ]
          },
          "metadata": {},
          "execution_count": 31
        }
      ],
      "source": [
        "board = [['o','x','x'],['4','X','o'],['x','o','x']]\n",
        "check_full_board(board)"
      ]
    },
    {
      "cell_type": "markdown",
      "metadata": {
        "id": "OjfyXPCeoQM4"
      },
      "source": [
        "## Check Win\n"
      ]
    },
    {
      "cell_type": "code",
      "execution_count": null,
      "metadata": {
        "id": "NTxJ1qsJmhoG"
      },
      "outputs": [],
      "source": [
        "def check_win(board):\n",
        "  return board[0][0] == board[0][1] == board[0][2] or \\\n",
        "         board[1][0] == board[1][1] == board[1][2] or \\\n",
        "         board[2][0] == board[2][1] == board[2][2] or \\\n",
        "         board[0][0] == board[1][0] == board[2][0] or \\\n",
        "         board[0][1] == board[1][1] == board[2][1] or \\\n",
        "         board[0][2] == board[1][2] == board[2][2] or \\\n",
        "         board[0][0] == board[1][1] == board[2][2] or \\\n",
        "         board[0][2] == board[1][1] == board[2][0]"
      ]
    },
    {
      "cell_type": "code",
      "execution_count": null,
      "metadata": {
        "colab": {
          "base_uri": "https://localhost:8080/"
        },
        "id": "E-mETiZEfZqp",
        "outputId": "819c357b-c4c1-4a89-9243-34439e0b910d"
      },
      "outputs": [
        {
          "output_type": "stream",
          "name": "stdout",
          "text": [
            "o\tx\tx\t\n",
            "\n",
            "o\to\tx\t\n",
            "\n",
            "x\to\tx\t\n",
            "\n"
          ]
        },
        {
          "output_type": "execute_result",
          "data": {
            "text/plain": [
              "False"
            ]
          },
          "metadata": {},
          "execution_count": 33
        }
      ],
      "source": [
        "board = [['o','x','x'],['o','o','x'],['x','o','x']]\n",
        "show_board(board)\n",
        "check_win(board)"
      ]
    },
    {
      "cell_type": "code",
      "execution_count": null,
      "metadata": {
        "colab": {
          "base_uri": "https://localhost:8080/"
        },
        "id": "CmlQlsjZkIut",
        "outputId": "a17f96c6-cfd8-4291-b267-102e6be8bd02"
      },
      "outputs": [
        {
          "output_type": "stream",
          "name": "stdout",
          "text": [
            "o\tx\to\t\n",
            "\n",
            "o\to\tx\t\n",
            "\n",
            "x\to\tx\t\n",
            "\n"
          ]
        },
        {
          "output_type": "execute_result",
          "data": {
            "text/plain": [
              "False"
            ]
          },
          "metadata": {},
          "execution_count": 34
        }
      ],
      "source": [
        "board = [['o','x','o'],['o','o','x'],['x','o','x']]\n",
        "show_board(board)\n",
        "check_win(board)"
      ]
    },
    {
      "cell_type": "markdown",
      "metadata": {
        "id": "uI9u-XGV2S7P"
      },
      "source": [
        "## Let's Play"
      ]
    },
    {
      "cell_type": "code",
      "execution_count": null,
      "metadata": {
        "id": "4nIAPOhSpksM"
      },
      "outputs": [],
      "source": [
        "def play():\n",
        "  playerx , playery = set_players()\n",
        "  print(\"First player: \" , playerx)\n",
        "  print(\"Second player: \" , playery)\n",
        "  board = [['1','2','3'],['4','5','6'],['7','8','9']]\n",
        "  show_board(board)\n",
        "  while True:\n",
        "    if check_win(board)== True or check_full_board(board)== True:\n",
        "          break\n",
        "    players = [playerx , playery]\n",
        "    for player in players:\n",
        "      print(player ,\" turn\")\n",
        "      take_input(board , player)\n",
        "\n",
        "      if check_win(board)== True:\n",
        "          print(\"player \" , player , \" wins\")\n",
        "          break\n",
        "      if check_full_board(board):\n",
        "          print('Game Finished. Draw!')\n",
        "          break\n",
        "\n",
        "\n",
        "\n",
        "\n",
        "\n",
        "\n"
      ]
    },
    {
      "cell_type": "code",
      "execution_count": null,
      "metadata": {
        "colab": {
          "base_uri": "https://localhost:8080/"
        },
        "id": "7m9ENdZp1Ffg",
        "outputId": "7c29d354-95e5-49d5-f67f-895d546481ab"
      },
      "outputs": [
        {
          "output_type": "stream",
          "name": "stdout",
          "text": [
            "First player:  o\n",
            "Second player:  x\n",
            "1\t2\t3\t\n",
            "\n",
            "4\t5\t6\t\n",
            "\n",
            "7\t8\t9\t\n",
            "\n",
            "o  turn\n",
            "please input you number from 1 to 9 in an empty cell: 2\n",
            "1\to\t3\t\n",
            "\n",
            "4\t5\t6\t\n",
            "\n",
            "7\t8\t9\t\n",
            "\n",
            "x  turn\n",
            "please input you number from 1 to 9 in an empty cell: 3\n",
            "1\to\tx\t\n",
            "\n",
            "4\t5\t6\t\n",
            "\n",
            "7\t8\t9\t\n",
            "\n",
            "o  turn\n",
            "please input you number from 1 to 9 in an empty cell: 5\n",
            "1\to\tx\t\n",
            "\n",
            "4\to\t6\t\n",
            "\n",
            "7\t8\t9\t\n",
            "\n",
            "x  turn\n",
            "please input you number from 1 to 9 in an empty cell: 8\n",
            "1\to\tx\t\n",
            "\n",
            "4\to\t6\t\n",
            "\n",
            "7\tx\t9\t\n",
            "\n",
            "o  turn\n",
            "please input you number from 1 to 9 in an empty cell: 6\n",
            "1\to\tx\t\n",
            "\n",
            "4\to\to\t\n",
            "\n",
            "7\tx\t9\t\n",
            "\n",
            "x  turn\n",
            "please input you number from 1 to 9 in an empty cell: 4\n",
            "1\to\tx\t\n",
            "\n",
            "x\to\to\t\n",
            "\n",
            "7\tx\t9\t\n",
            "\n",
            "o  turn\n",
            "please input you number from 1 to 9 in an empty cell: 1\n",
            "o\to\tx\t\n",
            "\n",
            "x\to\to\t\n",
            "\n",
            "7\tx\t9\t\n",
            "\n",
            "x  turn\n",
            "please input you number from 1 to 9 in an empty cell: 9\n",
            "o\to\tx\t\n",
            "\n",
            "x\to\to\t\n",
            "\n",
            "7\tx\tx\t\n",
            "\n",
            "o  turn\n",
            "please input you number from 1 to 9 in an empty cell: 7\n",
            "o\to\tx\t\n",
            "\n",
            "x\to\to\t\n",
            "\n",
            "o\tx\tx\t\n",
            "\n",
            "Game Finished. Draw!\n"
          ]
        }
      ],
      "source": [
        "play()"
      ]
    },
    {
      "cell_type": "code",
      "execution_count": null,
      "metadata": {
        "id": "O911u9mL3Akr"
      },
      "outputs": [],
      "source": []
    }
  ],
  "metadata": {
    "colab": {
      "provenance": [],
      "include_colab_link": true
    },
    "kernelspec": {
      "display_name": "Python 3",
      "name": "python3"
    },
    "language_info": {
      "name": "python"
    }
  },
  "nbformat": 4,
  "nbformat_minor": 0
}
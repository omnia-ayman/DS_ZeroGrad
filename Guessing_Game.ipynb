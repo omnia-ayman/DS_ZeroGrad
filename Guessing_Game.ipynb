{
  "cells": [
    {
      "cell_type": "markdown",
      "metadata": {
        "id": "hMV-7TpxbEDG"
      },
      "source": [
        "\n",
        "<a href=\"https://www.zero-grad.com/\">\n",
        "         <img alt=\"Zero Grad\" src=\"https://lh3.googleusercontent.com/oEMY-qk_B2HW_Fponz1a3u1fLfo3NpO0VFjQKnVW8fH0v93NAWala5Kgp0nN2ubiyZdEMpwhv3Ynv7bXsB0RZ28YfEd_ZlRum75OHEu0-z7XwHfcD3sin7_SORLzg1gz52MsxD3b1WbxQWX1RdR4HP3jpbJTOuCiddl92UBcQH_x-Llx7_XuZuwb9ekN9vYnKsw6U1yL2df4IVrJEDySttzab9qlHvMO7sSekgS64jPVAmATjqXqlvrwM026dhrad-7nX-hfr2uKlUGPuo9xKzVo4EhbUP1-pKBQNPNHO6P0KcReg3NxbtKmWXRyg9LPX0xO-wwXWt9GhCcPXFV_BoY5eQXabCjR3mlr9SO01VgWplas-XF4337_JOm-bVkiaQjQca_N4Gg0hy26TvIGRnHEMIPSgudYPqhMnatoN4xAC715rP82r1svC0_qadXMZHu6D40YqWnY9ZE-iujr2p1_CetxmG-uY94UATy7o-SnxuPchG4QfZkiUgRMr8xNg86bQMuBxbCS_lOyVMwfqwbt2IunlDcZ8yyN_3SJFzFHuFOOjQolgGQrytI0mP1oTwba7je0RtBtCuTck1UCMMsZvMnJhCtWgMmuLoYTkSCzxMXbz0T3L2AClDouA_3dwM7z1gdm8Gq4v06T1KWFUs1adGNH5fuj-pUHEfW4drzzXgolPH5SehqhaNsqdMttCPUzNPIIEjwfULyQi7nlP-w-qydK82mdhdmjQhrprfoGtsPckJkI1Tur60uZI7nLkES5cE3tQrGualSNArRkkU8KN4tStZ0CkmqZNkAlMbfAJSYBD7tDxhGSg922AdLevSLJMTUyg6KuHoY30r7zH1Z8fE0R8aFZL2LJl54OU_tkXEdlFlSnZTOdB-PVTj-yagpt99SetLnQIX5SS_Vxc0BNPKjUZG0oEHYbIxkbZN1O7Rg78xe-thytngS0byfuaeP2X4NYjg29FIffnn72bAUs9Ii0N2mOpABLg1uQMN4MyAa1Mbd_=w1300-h200-no?authuser=1\" >\n",
        "      </a>"
      ]
    },
    {
      "cell_type": "markdown",
      "metadata": {
        "id": "1NMnTuFU4XF3"
      },
      "source": [
        "# Guessing Game Project Description"
      ]
    },
    {
      "cell_type": "markdown",
      "metadata": {
        "id": "7uon2S-n4XF3"
      },
      "source": [
        "* **`First: You ask the user to set the game level:`**\n",
        "  * *(1) Easy*:\n",
        "    * Limits : [1 - 10]  \n",
        "    * No. of trials : 3\n",
        "  * *(2) Intermediate*:\n",
        "    * Limits : [1 - 100]\n",
        "    * No. of trials : 7\n",
        "  * *(3) Hard* :  \n",
        "    * Limits : [1 - 1000]\n",
        "    * No. of trials : 15\n",
        "\n",
        "* **`Second: set the game settings according to the game level:`**\n",
        "  * set the `guess` to a number within the limits using `random` module\n",
        "  * set the number of trials: `n_trials`\n",
        "\n",
        "* **`Finally: Play the game:`**\n",
        "  * Ask the user to guess the number:\n",
        "    * If he guessed it successfully : `print('Congratulations, you achieved it in {user_trials} trial') `\n",
        "    * if he failed:\n",
        "      * user_trials < n_trials: till him (Increase) or (Decrease)\n",
        "      * user_trials = n_trials: `print('You Lose!')`"
      ]
    },
    {
      "cell_type": "markdown",
      "metadata": {
        "id": "PhpgbWHJhJOW"
      },
      "source": [
        "## Project Description"
      ]
    },
    {
      "cell_type": "markdown",
      "metadata": {
        "id": "9XJyp9xehPBl"
      },
      "source": [
        "* **`First: You ask the user to set the game level:`**\n",
        "  * *(1) Easy*:\n",
        "    * Limits : [1 - 10]  \n",
        "    * No. of trials : 3\n",
        "  * *(2) Intermediate*:\n",
        "    * Limits : [1 - 100]\n",
        "    * No. of trials : 7\n",
        "  * *(3) Hard* :  \n",
        "    * Limits : [1 - 1000]\n",
        "    * No. of trials : 15\n",
        "\n",
        "* **`Second: start the game according to the game level:`**\n",
        "  * set the `guess` to a number within the limits using `random` module\n",
        "  * set the number of trials: `n_trials`\n",
        "\n",
        "* **`Finally: start the game:`**\n",
        "  * Ask the user to guess the number:\n",
        "    * If he guessed it successfully : `print('Congratulations, you achieved it in {user_trials} trial') `\n",
        "    * if he failed:\n",
        "      * user_trials < n_trials: give him another trial within\n",
        "      * user_trials = n_trials: `print('You Lose!')`"
      ]
    },
    {
      "cell_type": "code",
      "execution_count": null,
      "metadata": {
        "id": "we7UkC6AhFwy"
      },
      "outputs": [],
      "source": []
    },
    {
      "cell_type": "markdown",
      "metadata": {
        "id": "m2nflmTioFy_"
      },
      "source": [
        "# Template of Solution"
      ]
    },
    {
      "cell_type": "markdown",
      "metadata": {
        "id": "GsE-z7Son-xm"
      },
      "source": [
        "## Show the game levels"
      ]
    },
    {
      "cell_type": "code",
      "execution_count": null,
      "metadata": {
        "id": "YueCJNtPnndY"
      },
      "outputs": [],
      "source": [
        "def show_levels():\n",
        "  # write your code here\n",
        "  print('''\n",
        "           (1)level one Easy :>\n",
        "                *Limits : [1 - 10] *No. of trials : 3\n",
        "           (2)level one Itermediate :o\n",
        "                *Limits : [1 - 100]  *No. of trials : 7\n",
        "           (3)level one Hard :(\n",
        "                *Limits : [1 - 1000] *No. of trials : 15\n",
        "           ''')"
      ]
    },
    {
      "cell_type": "markdown",
      "metadata": {
        "id": "ZaIwkooboJ5p"
      },
      "source": [
        "## Ask the user for the game level"
      ]
    },
    {
      "cell_type": "code",
      "execution_count": null,
      "metadata": {
        "id": "ciabphtW4nB1"
      },
      "outputs": [],
      "source": [
        "def game_level_choice():\n",
        "  # write your code here\n",
        "  print(''' choose:\n",
        "  * 1 or Easy\n",
        "  * 2 or Intermediate\n",
        "  * 3 or Hard\n",
        "  Enjoy!!''' )\n",
        "  game_level = input(\"please, input your level choice: \")\n",
        "  return game_level"
      ]
    },
    {
      "cell_type": "markdown",
      "metadata": {
        "id": "OjfyXPCeoQM4"
      },
      "source": [
        "## Set the game settings according to the game level:\n"
      ]
    },
    {
      "cell_type": "code",
      "execution_count": null,
      "metadata": {
        "id": "NTxJ1qsJmhoG"
      },
      "outputs": [],
      "source": [
        "def set_game_settings(game_level):\n",
        "  # write your code here\n",
        "  if game_level == \"Easy\"or game_level == '1' :\n",
        "    limits = 10\n",
        "    n_trials = 3\n",
        "  elif game_level == \"Intermediate\" or game_level == '2':\n",
        "    limits = 100\n",
        "    n_trials = 7\n",
        "  elif game_level == \"Hard\" or game_level == '3':\n",
        "    limits = 1000\n",
        "    n_trials = 15\n",
        "  else :\n",
        "    print(\"choose the correct format as shown please.\")\n",
        "    return 0\n",
        "  return limits, n_trials"
      ]
    },
    {
      "cell_type": "markdown",
      "metadata": {
        "id": "97c-Ofv1o522"
      },
      "source": [
        "## Start Playing"
      ]
    },
    {
      "cell_type": "markdown",
      "metadata": {
        "id": "bwXcWa3bUREY"
      },
      "source": [
        "> Hint: to generate random number in some range:\n",
        "\n",
        "`import random`\n",
        "\n",
        "`num = random.randint(lower, upper)`\n",
        "\n",
        " or\n",
        "\n",
        " `num = random.choice(range(lower, upper))`\n"
      ]
    },
    {
      "cell_type": "code",
      "execution_count": null,
      "metadata": {
        "id": "wz6TkIcTo1Jl"
      },
      "outputs": [],
      "source": [
        "def start_play(limits, n_trials):\n",
        "  # write your code here\n",
        "  import numpy as np\n",
        "  import random\n",
        "  trials = n_trials\n",
        "  test = random.randint(1, limits)\n",
        "  while True :\n",
        "\n",
        "        guess = int(input(\"I have a hidden number, guess it : \"))\n",
        "\n",
        "        trials-=1\n",
        "\n",
        "        if (trials != 0) :\n",
        "\n",
        "            if guess == test :\n",
        "\n",
        "              print(\"You got it successfully in \" + str(trials+1) + \" trials. The number is \" + str(test))\n",
        "              break\n",
        "            else:\n",
        "\n",
        "               if guess > test :\n",
        "\n",
        "                        print(f\"No, Decrease!  you have now {trials} of trials\")\n",
        "\n",
        "\n",
        "               else:\n",
        "                         print(f\"No, Increase!  you have now {trials} of trials\")\n",
        "\n",
        "\n",
        "        else:\n",
        "              print(\"You lose:< Sorry you have ended your number of trials: \" + str(trials) +\n",
        "                      \" the hidden number was \" + str(test))\n",
        "\n",
        "              break\n",
        "              return 0\n"
      ]
    },
    {
      "cell_type": "markdown",
      "metadata": {
        "id": "uI9u-XGV2S7P"
      },
      "source": [
        "## Let's Play"
      ]
    },
    {
      "cell_type": "code",
      "execution_count": null,
      "metadata": {
        "id": "4nIAPOhSpksM"
      },
      "outputs": [],
      "source": [
        "def play():\n",
        "  show_levels()\n",
        "  game_level = game_level_choice()\n",
        "  limits, n_trials = set_game_settings(game_level)\n",
        "  start_play(limits, n_trials)"
      ]
    },
    {
      "cell_type": "code",
      "execution_count": null,
      "metadata": {
        "colab": {
          "base_uri": "https://localhost:8080/"
        },
        "id": "7m9ENdZp1Ffg",
        "outputId": "c252cd6e-26e9-443b-acae-09d7b8ebca10"
      },
      "outputs": [
        {
          "output_type": "stream",
          "name": "stdout",
          "text": [
            "\n",
            "           (1)level one Easy :>\n",
            "                *Limits : [1 - 10] *No. of trials : 3\n",
            "           (2)level one Itermediate :o\n",
            "                *Limits : [1 - 100]  *No. of trials : 7\n",
            "           (3)level one Hard :(\n",
            "                *Limits : [1 - 1000] *No. of trials : 15\n",
            "           \n",
            " choose:\n",
            "  * 1 or Easy\n",
            "  * 2 or Intermediate\n",
            "  * 3 or Hard\n",
            "  Enjoy!!\n",
            "please, input your level choice: 1\n",
            "I have a hidden number, guess it : 5\n",
            "No, Decrease!  you have now 2 of trials\n",
            "I have a hidden number, guess it : 3\n",
            "No, Decrease!  you have now 1 of trials\n",
            "I have a hidden number, guess it : 1\n",
            "You lose:< Sorry you have ended your number of trials: 0 the hidden number was 1\n"
          ]
        }
      ],
      "source": [
        "play()"
      ]
    },
    {
      "cell_type": "code",
      "execution_count": null,
      "metadata": {
        "id": "O911u9mL3Akr"
      },
      "outputs": [],
      "source": []
    }
  ],
  "metadata": {
    "colab": {
      "provenance": []
    },
    "kernelspec": {
      "display_name": "Python 3",
      "name": "python3"
    },
    "language_info": {
      "name": "python"
    }
  },
  "nbformat": 4,
  "nbformat_minor": 0
}